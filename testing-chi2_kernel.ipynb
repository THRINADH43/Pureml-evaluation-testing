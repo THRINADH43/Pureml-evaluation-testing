{
 "cells": [
  {
   "cell_type": "code",
   "execution_count": 1,
   "metadata": {},
   "outputs": [],
   "source": [
    "from pureml_evaluate.metrics.model.chi2_kernel.chi2_kernel import Chi2Kernel"
   ]
  },
  {
   "cell_type": "code",
   "execution_count": 2,
   "metadata": {},
   "outputs": [],
   "source": [
    "ck = Chi2Kernel()"
   ]
  },
  {
   "cell_type": "code",
   "execution_count": 3,
   "metadata": {},
   "outputs": [],
   "source": [
    "\n",
    "from sklearn.datasets import make_blobs\n",
    "import numpy as np\n",
    "\n",
    "# Generate sample data\n",
    "X, _ = make_blobs(n_samples=100, n_features=2, centers=3, random_state=42)\n",
    "Y = np.random.rand(100, 2)  # Additional feature array\n",
    "\n",
    "# Make sure all values in X and Y are non-negative\n",
    "X = np.maximum(X, 0)\n",
    "Y = np.maximum(Y, 0)"
   ]
  },
  {
   "cell_type": "code",
   "execution_count": 5,
   "metadata": {},
   "outputs": [
    {
     "data": {
      "text/plain": [
       "{'chi2_kernel': array([[1.00000000e+00, 2.03817308e-03, 7.07154718e-05, ...,\n",
       "         1.05331424e-03, 1.00000000e+00, 1.65742736e-04],\n",
       "        [2.03817308e-03, 1.00000000e+00, 2.26637020e-06, ...,\n",
       "         3.85768069e-01, 2.03817308e-03, 5.21040367e-06],\n",
       "        [7.07154718e-05, 2.26637020e-06, 1.00000000e+00, ...,\n",
       "         1.51048330e-04, 7.07154718e-05, 9.61050457e-01],\n",
       "        ...,\n",
       "        [1.05331424e-03, 3.85768069e-01, 1.51048330e-04, ...,\n",
       "         1.00000000e+00, 1.05331424e-03, 3.06063127e-04],\n",
       "        [1.00000000e+00, 2.03817308e-03, 7.07154718e-05, ...,\n",
       "         1.05331424e-03, 1.00000000e+00, 1.65742736e-04],\n",
       "        [1.65742736e-04, 5.21040367e-06, 9.61050457e-01, ...,\n",
       "         3.06063127e-04, 1.65742736e-04, 1.00000000e+00]])}"
      ]
     },
     "execution_count": 5,
     "metadata": {},
     "output_type": "execute_result"
    }
   ],
   "source": [
    "ck.compute(X)"
   ]
  },
  {
   "cell_type": "code",
   "execution_count": 6,
   "metadata": {},
   "outputs": [
    {
     "data": {
      "text/plain": [
       "{'chi2_kernel': array([[6.37124116e-01, 3.64530027e-01, 3.99443497e-01, ...,\n",
       "         4.19208879e-01, 2.07824886e-01, 1.77727578e-01],\n",
       "        [6.95147917e-03, 4.90843544e-03, 1.49145113e-02, ...,\n",
       "         1.71723828e-02, 4.03474244e-02, 3.21125958e-02],\n",
       "        [6.17978561e-05, 8.28313051e-04, 1.37987610e-04, ...,\n",
       "         6.98465549e-05, 1.61674059e-04, 3.45890996e-04],\n",
       "        ...,\n",
       "        [3.59799546e-03, 7.26986713e-03, 1.05464027e-02, ...,\n",
       "         9.54832335e-03, 3.59173701e-02, 4.14298263e-02],\n",
       "        [6.37124116e-01, 3.64530027e-01, 3.99443497e-01, ...,\n",
       "         4.19208879e-01, 2.07824886e-01, 1.77727578e-01],\n",
       "        [1.44804667e-04, 1.88299136e-03, 3.21347278e-04, ...,\n",
       "         1.63399363e-04, 3.73428266e-04, 7.88399615e-04]])}"
      ]
     },
     "execution_count": 6,
     "metadata": {},
     "output_type": "execute_result"
    }
   ],
   "source": [
    "ck.compute(X,Y)"
   ]
  },
  {
   "cell_type": "code",
   "execution_count": 7,
   "metadata": {},
   "outputs": [
    {
     "data": {
      "text/plain": [
       "{'chi2_kernel': array([[5.08552819e-01, 2.20089823e-01, 2.52454451e-01, ...,\n",
       "         2.71422414e-01, 9.47428243e-02, 7.49259458e-02],\n",
       "        [5.79583267e-04, 3.43886102e-04, 1.82143444e-03, ...,\n",
       "         2.25032809e-03, 8.10445333e-03, 5.75457320e-03],\n",
       "        [4.85802911e-07, 2.38392044e-05, 1.62091461e-06, ...,\n",
       "         5.83737354e-07, 2.05570367e-06, 6.43293088e-06],\n",
       "        ...,\n",
       "        [2.15819616e-04, 6.19854431e-04, 1.08306999e-03, ...,\n",
       "         9.33019405e-04, 6.80701638e-03, 8.43275860e-03],\n",
       "        [5.08552819e-01, 2.20089823e-01, 2.52454451e-01, ...,\n",
       "         2.71422414e-01, 9.47428243e-02, 7.49259458e-02],\n",
       "        [1.74250423e-06, 8.17094880e-05, 5.76052332e-06, ...,\n",
       "         2.08869746e-06, 7.21623691e-06, 2.21370428e-05]])}"
      ]
     },
     "execution_count": 7,
     "metadata": {},
     "output_type": "execute_result"
    }
   ],
   "source": [
    "ck.compute(X,Y,gamma=1.5)"
   ]
  },
  {
   "cell_type": "code",
   "execution_count": 8,
   "metadata": {},
   "outputs": [
    {
     "data": {
      "text/plain": [
       "{'chi2_kernel': array([[1.00000000e+00, 9.20156275e-05, 5.94664023e-07, ...,\n",
       "         3.41851063e-05, 1.00000000e+00, 2.13379040e-06],\n",
       "        [9.20156275e-05, 1.00000000e+00, 3.41189987e-09, ...,\n",
       "         2.39601435e-01, 9.20156275e-05, 1.18934282e-08],\n",
       "        [5.94664023e-07, 3.41189987e-09, 1.00000000e+00, ...,\n",
       "         1.85640996e-06, 5.94664023e-07, 9.42148333e-01],\n",
       "        ...,\n",
       "        [3.41851063e-05, 2.39601435e-01, 1.85640996e-06, ...,\n",
       "         1.00000000e+00, 3.41851063e-05, 5.35447033e-06],\n",
       "        [1.00000000e+00, 9.20156275e-05, 5.94664023e-07, ...,\n",
       "         3.41851063e-05, 1.00000000e+00, 2.13379040e-06],\n",
       "        [2.13379040e-06, 1.18934282e-08, 9.42148333e-01, ...,\n",
       "         5.35447033e-06, 2.13379040e-06, 1.00000000e+00]])}"
      ]
     },
     "execution_count": 8,
     "metadata": {},
     "output_type": "execute_result"
    }
   ],
   "source": [
    "ck.compute(X,gamma=1.5)"
   ]
  },
  {
   "cell_type": "code",
   "execution_count": null,
   "metadata": {},
   "outputs": [],
   "source": []
  }
 ],
 "metadata": {
  "kernelspec": {
   "display_name": "Python 3",
   "language": "python",
   "name": "python3"
  },
  "language_info": {
   "codemirror_mode": {
    "name": "ipython",
    "version": 3
   },
   "file_extension": ".py",
   "mimetype": "text/x-python",
   "name": "python",
   "nbconvert_exporter": "python",
   "pygments_lexer": "ipython3",
   "version": "3.10.6"
  },
  "orig_nbformat": 4
 },
 "nbformat": 4,
 "nbformat_minor": 2
}
