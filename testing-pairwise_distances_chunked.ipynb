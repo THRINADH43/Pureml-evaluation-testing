{
 "cells": [
  {
   "cell_type": "code",
   "execution_count": 1,
   "metadata": {},
   "outputs": [],
   "source": [
    "from pureml_evaluate.metrics.model.pairwise_distances_chunked.pairwise_distances_chunked import PairwiseDistancesChunked"
   ]
  },
  {
   "cell_type": "code",
   "execution_count": 2,
   "metadata": {},
   "outputs": [],
   "source": [
    "pd = PairwiseDistancesChunked()"
   ]
  },
  {
   "cell_type": "code",
   "execution_count": 3,
   "metadata": {},
   "outputs": [],
   "source": [
    "import numpy as np\n",
    "\n",
    "\n",
    "X = np.random.RandomState(0).rand(5, 3)\n",
    "\n"
   ]
  },
  {
   "cell_type": "code",
   "execution_count": 4,
   "metadata": {},
   "outputs": [
    {
     "data": {
      "text/plain": [
       "{'pairwise_distances_chunked': <generator object pairwise_distances_chunked at 0x7f53c78b2030>}"
      ]
     },
     "execution_count": 4,
     "metadata": {},
     "output_type": "execute_result"
    }
   ],
   "source": [
    "pd.compute(X)"
   ]
  },
  {
   "cell_type": "code",
   "execution_count": 5,
   "metadata": {},
   "outputs": [],
   "source": [
    "result = pd.compute(X)"
   ]
  },
  {
   "cell_type": "code",
   "execution_count": 6,
   "metadata": {},
   "outputs": [
    {
     "data": {
      "text/plain": [
       "<generator object pairwise_distances_chunked at 0x7f53c78b20a0>"
      ]
     },
     "execution_count": 6,
     "metadata": {},
     "output_type": "execute_result"
    }
   ],
   "source": [
    "result['pairwise_distances_chunked']"
   ]
  },
  {
   "cell_type": "code",
   "execution_count": 7,
   "metadata": {},
   "outputs": [],
   "source": [
    "D_chunk = next(result['pairwise_distances_chunked'])"
   ]
  },
  {
   "cell_type": "code",
   "execution_count": 8,
   "metadata": {},
   "outputs": [
    {
     "data": {
      "text/plain": [
       "array([[0.        , 0.29473397, 0.41689499, 0.19662693, 0.57216693],\n",
       "       [0.29473397, 0.        , 0.57586803, 0.41860234, 0.76350759],\n",
       "       [0.41689499, 0.57586803, 0.        , 0.44940452, 0.90274337],\n",
       "       [0.19662693, 0.41860234, 0.44940452, 0.        , 0.51150232],\n",
       "       [0.57216693, 0.76350759, 0.90274337, 0.51150232, 0.        ]])"
      ]
     },
     "execution_count": 8,
     "metadata": {},
     "output_type": "execute_result"
    }
   ],
   "source": [
    "D_chunk"
   ]
  },
  {
   "cell_type": "code",
   "execution_count": 9,
   "metadata": {},
   "outputs": [
    {
     "data": {
      "text/plain": [
       "array([0.03932539, 0.        , 0.        , 0.03932539, 0.        ])"
      ]
     },
     "execution_count": 9,
     "metadata": {},
     "output_type": "execute_result"
    }
   ],
   "source": [
    "r = .2\n",
    "def reduce_func(D_chunk, start):\n",
    "    neigh = [np.flatnonzero(d < r) for d in D_chunk]\n",
    "    avg_dist = (D_chunk * (D_chunk < r)).mean(axis=1)\n",
    "    return neigh, avg_dist\n",
    "gen = pd.compute(X, reduce_func=reduce_func)\n",
    "neigh, avg_dist = next(gen['pairwise_distances_chunked'])\n",
    "neigh\n",
    "\n",
    "avg_dist\n"
   ]
  },
  {
   "cell_type": "code",
   "execution_count": 10,
   "metadata": {},
   "outputs": [
    {
     "data": {
      "text/plain": [
       "[array([0, 3]), array([1]), array([2]), array([0, 3]), array([4])]"
      ]
     },
     "execution_count": 10,
     "metadata": {},
     "output_type": "execute_result"
    }
   ],
   "source": [
    "neigh"
   ]
  },
  {
   "cell_type": "code",
   "execution_count": 11,
   "metadata": {},
   "outputs": [
    {
     "data": {
      "text/plain": [
       "array([0.03932539, 0.        , 0.        , 0.03932539, 0.        ])"
      ]
     },
     "execution_count": 11,
     "metadata": {},
     "output_type": "execute_result"
    }
   ],
   "source": [
    "avg_dist"
   ]
  },
  {
   "cell_type": "code",
   "execution_count": 12,
   "metadata": {},
   "outputs": [],
   "source": [
    "r = [.2, .4, .4, .3, .1]\n",
    "def reduce_func(D_chunk, start):\n",
    "    neigh = [np.flatnonzero(d < r[i])\n",
    "             for i, d in enumerate(D_chunk, start)]\n",
    "    return neigh\n",
    "\n",
    "result = pd.compute(X,reduce_func=reduce_func)\n",
    "neigh  = next(result['pairwise_distances_chunked'])\n"
   ]
  },
  {
   "cell_type": "code",
   "execution_count": 13,
   "metadata": {},
   "outputs": [
    {
     "data": {
      "text/plain": [
       "[array([0, 3]), array([0, 1]), array([2]), array([0, 3]), array([4])]"
      ]
     },
     "execution_count": 13,
     "metadata": {},
     "output_type": "execute_result"
    }
   ],
   "source": [
    "neigh"
   ]
  },
  {
   "cell_type": "code",
   "execution_count": null,
   "metadata": {},
   "outputs": [],
   "source": []
  }
 ],
 "metadata": {
  "kernelspec": {
   "display_name": "Python 3",
   "language": "python",
   "name": "python3"
  },
  "language_info": {
   "codemirror_mode": {
    "name": "ipython",
    "version": 3
   },
   "file_extension": ".py",
   "mimetype": "text/x-python",
   "name": "python",
   "nbconvert_exporter": "python",
   "pygments_lexer": "ipython3",
   "version": "3.10.6"
  },
  "orig_nbformat": 4
 },
 "nbformat": 4,
 "nbformat_minor": 2
}
