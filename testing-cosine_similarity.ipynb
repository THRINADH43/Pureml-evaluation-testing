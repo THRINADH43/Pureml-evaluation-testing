{
 "cells": [
  {
   "cell_type": "code",
   "execution_count": 1,
   "metadata": {},
   "outputs": [],
   "source": [
    "from pureml_evaluate.metrics.model.cosine_similarity.cosine_similarity import  CosineSimilarity"
   ]
  },
  {
   "cell_type": "code",
   "execution_count": 2,
   "metadata": {},
   "outputs": [],
   "source": [
    "cs  = CosineSimilarity()"
   ]
  },
  {
   "cell_type": "code",
   "execution_count": 3,
   "metadata": {},
   "outputs": [],
   "source": [
    "from sklearn.datasets import make_blobs\n",
    "\n",
    "# Generate sample data\n",
    "X, _ = make_blobs(n_samples=100, n_features=2, centers=3, random_state=42)\n"
   ]
  },
  {
   "cell_type": "code",
   "execution_count": 4,
   "metadata": {},
   "outputs": [
    {
     "data": {
      "text/plain": [
       "{'cosine_similarity': array([[ 1.        , -0.77025414, -0.50095878, ..., -0.94313313,\n",
       "          0.99924399, -0.44362414],\n",
       "        [-0.77025414,  1.        , -0.16607745, ...,  0.93844572,\n",
       "         -0.79446534, -0.22984487],\n",
       "        [-0.50095878, -0.16607745,  1.        , ...,  0.18477502,\n",
       "         -0.46693283,  0.99788384],\n",
       "        ...,\n",
       "        [-0.94313313,  0.93844572,  0.18477502, ...,  1.        ,\n",
       "         -0.95534354,  0.12048178],\n",
       "        [ 0.99924399, -0.79446534, -0.46693283, ..., -0.95534354,\n",
       "          1.        , -0.40844638],\n",
       "        [-0.44362414, -0.22984487,  0.99788384, ...,  0.12048178,\n",
       "         -0.40844638,  1.        ]])}"
      ]
     },
     "execution_count": 4,
     "metadata": {},
     "output_type": "execute_result"
    }
   ],
   "source": [
    "cs.compute(X)"
   ]
  },
  {
   "cell_type": "code",
   "execution_count": 5,
   "metadata": {},
   "outputs": [
    {
     "data": {
      "text/plain": [
       "{'cosine_similarity': array([[ 1.        , -0.77025414, -0.50095878, ..., -0.94313313,\n",
       "          0.99924399, -0.44362414],\n",
       "        [-0.77025414,  1.        , -0.16607745, ...,  0.93844572,\n",
       "         -0.79446534, -0.22984487],\n",
       "        [-0.50095878, -0.16607745,  1.        , ...,  0.18477502,\n",
       "         -0.46693283,  0.99788384],\n",
       "        ...,\n",
       "        [-0.94313313,  0.93844572,  0.18477502, ...,  1.        ,\n",
       "         -0.95534354,  0.12048178],\n",
       "        [ 0.99924399, -0.79446534, -0.46693283, ..., -0.95534354,\n",
       "          1.        , -0.40844638],\n",
       "        [-0.44362414, -0.22984487,  0.99788384, ...,  0.12048178,\n",
       "         -0.40844638,  1.        ]])}"
      ]
     },
     "execution_count": 5,
     "metadata": {},
     "output_type": "execute_result"
    }
   ],
   "source": [
    "cs.compute(X,dense_output=False)"
   ]
  },
  {
   "cell_type": "code",
   "execution_count": 6,
   "metadata": {},
   "outputs": [],
   "source": [
    "from sklearn.datasets import make_blobs\n",
    "\n",
    "# Generate sample data\n",
    "X, _ = make_blobs(n_samples=100, n_features=2, centers=3, random_state=42)\n",
    "Y, _ = make_blobs(n_samples=50, n_features=2, centers=2, random_state=42)\n"
   ]
  },
  {
   "cell_type": "code",
   "execution_count": 7,
   "metadata": {},
   "outputs": [
    {
     "data": {
      "text/plain": [
       "{'cosine_similarity': array([[-0.98530227, -0.52099707, -0.41878524, ..., -0.92935879,\n",
       "         -0.96908507, -0.49671653],\n",
       "        [ 0.86787134, -0.14304572, -0.25654859, ...,  0.95128081,\n",
       "          0.90378864, -0.17090221],\n",
       "        [ 0.34575611,  0.99972828,  0.99571577, ...,  0.14605772,\n",
       "          0.27193671,  0.99998802],\n",
       "        ...,\n",
       "        [ 0.98605436,  0.20763375,  0.09310883, ...,  0.99922939,\n",
       "          0.995992  ,  0.17996236],\n",
       "        [-0.99119839, -0.4874191 , -0.38316469, ..., -0.94300884,\n",
       "         -0.97794451, -0.46259887],\n",
       "        [ 0.28401285,  0.99609701,  0.99962104, ...,  0.08142409,\n",
       "          0.20878974,  0.99819015]])}"
      ]
     },
     "execution_count": 7,
     "metadata": {},
     "output_type": "execute_result"
    }
   ],
   "source": [
    "cs.compute(X,Y)"
   ]
  },
  {
   "cell_type": "code",
   "execution_count": 8,
   "metadata": {},
   "outputs": [
    {
     "data": {
      "text/plain": [
       "{'cosine_similarity': array([[-0.98530227, -0.52099707, -0.41878524, ..., -0.92935879,\n",
       "         -0.96908507, -0.49671653],\n",
       "        [ 0.86787134, -0.14304572, -0.25654859, ...,  0.95128081,\n",
       "          0.90378864, -0.17090221],\n",
       "        [ 0.34575611,  0.99972828,  0.99571577, ...,  0.14605772,\n",
       "          0.27193671,  0.99998802],\n",
       "        ...,\n",
       "        [ 0.98605436,  0.20763375,  0.09310883, ...,  0.99922939,\n",
       "          0.995992  ,  0.17996236],\n",
       "        [-0.99119839, -0.4874191 , -0.38316469, ..., -0.94300884,\n",
       "         -0.97794451, -0.46259887],\n",
       "        [ 0.28401285,  0.99609701,  0.99962104, ...,  0.08142409,\n",
       "          0.20878974,  0.99819015]])}"
      ]
     },
     "execution_count": 8,
     "metadata": {},
     "output_type": "execute_result"
    }
   ],
   "source": [
    "cs.compute(X,Y,dense_output=False)"
   ]
  },
  {
   "cell_type": "code",
   "execution_count": 9,
   "metadata": {},
   "outputs": [],
   "source": [
    "from scipy.sparse import csr_matrix\n",
    "\n",
    "# Create a sparse matrix\n",
    "X_sparse = csr_matrix([[1, 2, 0], [0, 3, 4], [5, 0, 6]])\n"
   ]
  },
  {
   "cell_type": "code",
   "execution_count": 10,
   "metadata": {},
   "outputs": [
    {
     "data": {
      "text/plain": [
       "{'cosine_similarity': array([[ 1.        , -0.77025414, -0.50095878, ..., -0.94313313,\n",
       "          0.99924399, -0.44362414],\n",
       "        [-0.77025414,  1.        , -0.16607745, ...,  0.93844572,\n",
       "         -0.79446534, -0.22984487],\n",
       "        [-0.50095878, -0.16607745,  1.        , ...,  0.18477502,\n",
       "         -0.46693283,  0.99788384],\n",
       "        ...,\n",
       "        [-0.94313313,  0.93844572,  0.18477502, ...,  1.        ,\n",
       "         -0.95534354,  0.12048178],\n",
       "        [ 0.99924399, -0.79446534, -0.46693283, ..., -0.95534354,\n",
       "          1.        , -0.40844638],\n",
       "        [-0.44362414, -0.22984487,  0.99788384, ...,  0.12048178,\n",
       "         -0.40844638,  1.        ]])}"
      ]
     },
     "execution_count": 10,
     "metadata": {},
     "output_type": "execute_result"
    }
   ],
   "source": [
    "cs.compute(X,dense_output=False)"
   ]
  },
  {
   "cell_type": "code",
   "execution_count": 13,
   "metadata": {},
   "outputs": [],
   "source": [
    "from scipy.sparse import csr_matrix\n",
    "\n",
    "# Create a sparse matrix\n",
    "Y_sparse = csr_matrix([[1, 2, 0], [0, 3, 4], [5, 0, 6]])\n",
    "\n"
   ]
  },
  {
   "cell_type": "code",
   "execution_count": 14,
   "metadata": {},
   "outputs": [
    {
     "data": {
      "text/plain": [
       "{'cosine_similarity': <3x3 sparse matrix of type '<class 'numpy.float64'>'\n",
       " \twith 9 stored elements in Compressed Sparse Row format>}"
      ]
     },
     "execution_count": 14,
     "metadata": {},
     "output_type": "execute_result"
    }
   ],
   "source": [
    "cs.compute(X_sparse,dense_output=False)"
   ]
  },
  {
   "cell_type": "code",
   "execution_count": 15,
   "metadata": {},
   "outputs": [
    {
     "data": {
      "text/plain": [
       "{'cosine_similarity': array([[1.        , 0.53665631, 0.28629917],\n",
       "        [0.53665631, 1.        , 0.61457702],\n",
       "        [0.28629917, 0.61457702, 1.        ]])}"
      ]
     },
     "execution_count": 15,
     "metadata": {},
     "output_type": "execute_result"
    }
   ],
   "source": [
    "cs.compute(X_sparse,Y_sparse)"
   ]
  },
  {
   "cell_type": "code",
   "execution_count": 16,
   "metadata": {},
   "outputs": [
    {
     "data": {
      "text/plain": [
       "{'cosine_similarity': <3x3 sparse matrix of type '<class 'numpy.float64'>'\n",
       " \twith 9 stored elements in Compressed Sparse Row format>}"
      ]
     },
     "execution_count": 16,
     "metadata": {},
     "output_type": "execute_result"
    }
   ],
   "source": [
    "cs.compute(X_sparse,Y_sparse,dense_output=False)"
   ]
  },
  {
   "cell_type": "code",
   "execution_count": null,
   "metadata": {},
   "outputs": [],
   "source": []
  }
 ],
 "metadata": {
  "kernelspec": {
   "display_name": "Python 3",
   "language": "python",
   "name": "python3"
  },
  "language_info": {
   "codemirror_mode": {
    "name": "ipython",
    "version": 3
   },
   "file_extension": ".py",
   "mimetype": "text/x-python",
   "name": "python",
   "nbconvert_exporter": "python",
   "pygments_lexer": "ipython3",
   "version": "3.10.6"
  },
  "orig_nbformat": 4
 },
 "nbformat": 4,
 "nbformat_minor": 2
}
