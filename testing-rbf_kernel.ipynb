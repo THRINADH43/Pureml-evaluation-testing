{
 "cells": [
  {
   "cell_type": "code",
   "execution_count": 1,
   "metadata": {},
   "outputs": [],
   "source": [
    "from pureml_evaluate.metrics.model.rbf_kernel.rbf_kernel import RBFKernel"
   ]
  },
  {
   "cell_type": "code",
   "execution_count": 2,
   "metadata": {},
   "outputs": [],
   "source": [
    "rb  = RBFKernel()"
   ]
  },
  {
   "cell_type": "code",
   "execution_count": 3,
   "metadata": {},
   "outputs": [],
   "source": [
    "import numpy as np\n",
    "\n",
    "# Create two random datasets\n",
    "X = np.random.rand(5, 3)\n",
    "Y = np.random.rand(5, 3)"
   ]
  },
  {
   "cell_type": "code",
   "execution_count": 4,
   "metadata": {},
   "outputs": [
    {
     "data": {
      "text/plain": [
       "{'rbf_kernel': array([[1.        , 0.71462331, 0.69102532, 0.81460942, 0.99330925],\n",
       "        [0.71462331, 1.        , 0.73612575, 0.97579331, 0.68104565],\n",
       "        [0.69102532, 0.73612575, 1.        , 0.72112839, 0.71926104],\n",
       "        [0.81460942, 0.97579331, 0.72112839, 1.        , 0.77887663],\n",
       "        [0.99330925, 0.68104565, 0.71926104, 0.77887663, 1.        ]])}"
      ]
     },
     "execution_count": 4,
     "metadata": {},
     "output_type": "execute_result"
    }
   ],
   "source": [
    "rb.compute(X)"
   ]
  },
  {
   "cell_type": "code",
   "execution_count": 5,
   "metadata": {},
   "outputs": [
    {
     "data": {
      "text/plain": [
       "{'rbf_kernel': array([[0.67986375, 0.6024799 , 0.70944223, 0.81332927, 0.80874864],\n",
       "        [0.82715632, 0.90781428, 0.9231276 , 0.82911146, 0.95866871],\n",
       "        [0.97810768, 0.60580618, 0.87878873, 0.90367229, 0.82444444],\n",
       "        [0.79742639, 0.84959655, 0.90730181, 0.86347767, 0.97463372],\n",
       "        [0.69459849, 0.55967689, 0.70568083, 0.82716039, 0.79205918]])}"
      ]
     },
     "execution_count": 5,
     "metadata": {},
     "output_type": "execute_result"
    }
   ],
   "source": [
    "rb.compute(X,Y)"
   ]
  },
  {
   "cell_type": "code",
   "execution_count": 6,
   "metadata": {},
   "outputs": [
    {
     "data": {
      "text/plain": [
       "{'rbf_kernel': array([[0.89068998, 0.85897944, 0.90214243, 0.93989626, 0.93830508],\n",
       "        [0.94466163, 0.97140225, 0.97628928, 0.94533095, 0.98741692],\n",
       "        [0.99338135, 0.86039942, 0.96197845, 0.97007048, 0.94373143],\n",
       "        [0.93434482, 0.95227816, 0.9712377 , 0.95691934, 0.99232157],\n",
       "        [0.89643778, 0.84019716, 0.90070484, 0.94466303, 0.93245373]])}"
      ]
     },
     "execution_count": 6,
     "metadata": {},
     "output_type": "execute_result"
    }
   ],
   "source": [
    "rb.compute(X,Y,0.1)"
   ]
  },
  {
   "cell_type": "code",
   "execution_count": null,
   "metadata": {},
   "outputs": [],
   "source": []
  }
 ],
 "metadata": {
  "kernelspec": {
   "display_name": "Python 3",
   "language": "python",
   "name": "python3"
  },
  "language_info": {
   "codemirror_mode": {
    "name": "ipython",
    "version": 3
   },
   "file_extension": ".py",
   "mimetype": "text/x-python",
   "name": "python",
   "nbconvert_exporter": "python",
   "pygments_lexer": "ipython3",
   "version": "3.10.6"
  },
  "orig_nbformat": 4
 },
 "nbformat": 4,
 "nbformat_minor": 2
}
