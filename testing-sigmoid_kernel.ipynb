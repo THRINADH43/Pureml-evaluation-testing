{
 "cells": [
  {
   "cell_type": "code",
   "execution_count": 1,
   "metadata": {},
   "outputs": [],
   "source": [
    "from pureml_evaluate.metrics.model.sigmoid_kernel.sigmoid_kernel import SigmoidKernel"
   ]
  },
  {
   "cell_type": "code",
   "execution_count": 2,
   "metadata": {},
   "outputs": [],
   "source": [
    "sk = SigmoidKernel()"
   ]
  },
  {
   "cell_type": "code",
   "execution_count": 3,
   "metadata": {},
   "outputs": [],
   "source": [
    "import numpy as np\n",
    "\n",
    "# Create two random datasets\n",
    "X = np.random.rand(5, 3)\n",
    "Y = np.random.rand(5, 3)\n"
   ]
  },
  {
   "cell_type": "code",
   "execution_count": 4,
   "metadata": {},
   "outputs": [
    {
     "data": {
      "text/plain": [
       "{'sigmoid_kernel': array([[0.87301448, 0.86573121, 0.84759987, 0.87269134, 0.84148316],\n",
       "        [0.81960952, 0.83663329, 0.78870469, 0.81847833, 0.8120302 ],\n",
       "        [0.87198828, 0.88727794, 0.83504229, 0.84526001, 0.873555  ],\n",
       "        [0.81800537, 0.81556047, 0.80228882, 0.8167955 , 0.80179442],\n",
       "        [0.85343115, 0.87001792, 0.81856508, 0.83169761, 0.85494857]])}"
      ]
     },
     "execution_count": 4,
     "metadata": {},
     "output_type": "execute_result"
    }
   ],
   "source": [
    "sk.compute(X,Y)"
   ]
  },
  {
   "cell_type": "code",
   "execution_count": 5,
   "metadata": {},
   "outputs": [
    {
     "data": {
      "text/plain": [
       "{'sigmoid_kernel': array([[0.87405529, 0.78387685, 0.8315233 , 0.81573606, 0.81282471],\n",
       "        [0.78387685, 0.8405137 , 0.85600154, 0.77747762, 0.84981029],\n",
       "        [0.8315233 , 0.85600154, 0.90529358, 0.80095561, 0.89040216],\n",
       "        [0.81573606, 0.77747762, 0.80095561, 0.78585931, 0.79157548],\n",
       "        [0.81282471, 0.84981029, 0.89040216, 0.79157548, 0.87761869]])}"
      ]
     },
     "execution_count": 5,
     "metadata": {},
     "output_type": "execute_result"
    }
   ],
   "source": [
    "sk.compute(X)"
   ]
  },
  {
   "cell_type": "code",
   "execution_count": null,
   "metadata": {},
   "outputs": [],
   "source": []
  }
 ],
 "metadata": {
  "kernelspec": {
   "display_name": "Python 3",
   "language": "python",
   "name": "python3"
  },
  "language_info": {
   "codemirror_mode": {
    "name": "ipython",
    "version": 3
   },
   "file_extension": ".py",
   "mimetype": "text/x-python",
   "name": "python",
   "nbconvert_exporter": "python",
   "pygments_lexer": "ipython3",
   "version": "3.10.6"
  },
  "orig_nbformat": 4
 },
 "nbformat": 4,
 "nbformat_minor": 2
}
