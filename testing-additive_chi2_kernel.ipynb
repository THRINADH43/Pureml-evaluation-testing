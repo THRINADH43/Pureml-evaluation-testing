{
 "cells": [
  {
   "cell_type": "code",
   "execution_count": 1,
   "metadata": {},
   "outputs": [],
   "source": [
    "from pureml_evaluate.metrics.model.additive_chi2_kernel.additive_chi2_kernel import AdditiveChi2Kernel"
   ]
  },
  {
   "cell_type": "code",
   "execution_count": 2,
   "metadata": {},
   "outputs": [],
   "source": [
    "ac = AdditiveChi2Kernel()"
   ]
  },
  {
   "cell_type": "code",
   "execution_count": 3,
   "metadata": {},
   "outputs": [],
   "source": [
    "\n",
    "from sklearn.datasets import make_blobs\n",
    "import numpy as np\n",
    "\n",
    "# Generate sample data\n",
    "X, _ = make_blobs(n_samples=100, n_features=2, centers=3, random_state=42)\n",
    "Y = np.random.rand(100, 2)  # Additional feature array\n",
    "\n",
    "# Make sure all values in X and Y are non-negative\n",
    "X = np.maximum(X, 0)\n",
    "Y = np.maximum(Y, 0)\n",
    "\n"
   ]
  },
  {
   "cell_type": "code",
   "execution_count": 4,
   "metadata": {},
   "outputs": [
    {
     "data": {
      "text/plain": [
       "{'additive_chi2_kernel': array([[ -0.        ,  -6.19570142,  -9.55684617, ...,  -6.85581367,\n",
       "          -0.        ,  -8.70507375],\n",
       "        [ -6.19570142,  -0.        , -12.99733104, ...,  -0.95251895,\n",
       "          -6.19570142, -12.16485323],\n",
       "        [ -9.55684617, -12.99733104,  -0.        , ...,  -8.79791071,\n",
       "          -9.55684617,  -0.03972837],\n",
       "        ...,\n",
       "        [ -6.85581367,  -0.95251895,  -8.79791071, ...,  -0.        ,\n",
       "          -6.85581367,  -8.09171918],\n",
       "        [ -0.        ,  -6.19570142,  -9.55684617, ...,  -6.85581367,\n",
       "          -0.        ,  -8.70507375],\n",
       "        [ -8.70507375, -12.16485323,  -0.03972837, ...,  -8.09171918,\n",
       "          -8.70507375,  -0.        ]])}"
      ]
     },
     "execution_count": 4,
     "metadata": {},
     "output_type": "execute_result"
    }
   ],
   "source": [
    "ac.compute(X)"
   ]
  },
  {
   "cell_type": "code",
   "execution_count": 5,
   "metadata": {},
   "outputs": [
    {
     "data": {
      "text/plain": [
       "{'additive_chi2_kernel': array([[ -0.        ,  -6.19570142,  -9.55684617, ...,  -6.85581367,\n",
       "          -0.        ,  -8.70507375],\n",
       "        [ -6.19570142,  -0.        , -12.99733104, ...,  -0.95251895,\n",
       "          -6.19570142, -12.16485323],\n",
       "        [ -9.55684617, -12.99733104,  -0.        , ...,  -8.79791071,\n",
       "          -9.55684617,  -0.03972837],\n",
       "        ...,\n",
       "        [ -6.85581367,  -0.95251895,  -8.79791071, ...,  -0.        ,\n",
       "          -6.85581367,  -8.09171918],\n",
       "        [ -0.        ,  -6.19570142,  -9.55684617, ...,  -6.85581367,\n",
       "          -0.        ,  -8.70507375],\n",
       "        [ -8.70507375, -12.16485323,  -0.03972837, ...,  -8.09171918,\n",
       "          -8.70507375,  -0.        ]])}"
      ]
     },
     "execution_count": 5,
     "metadata": {},
     "output_type": "execute_result"
    }
   ],
   "source": [
    "ac.compute(X,X)"
   ]
  },
  {
   "cell_type": "code",
   "execution_count": 6,
   "metadata": {},
   "outputs": [
    {
     "data": {
      "text/plain": [
       "{'additive_chi2_kernel': array([[-1.23299175, -0.21951632, -1.0602305 , ..., -0.43965475,\n",
       "         -1.11435865, -1.26952241],\n",
       "        [-3.59269091, -5.57930567, -3.66751402, ..., -5.30436503,\n",
       "         -3.81035552, -4.16903183],\n",
       "        [-9.01529928, -9.48108897, -9.74111783, ..., -8.69604459,\n",
       "         -8.97520952, -7.91087055],\n",
       "        ...,\n",
       "        [-3.91084228, -6.22451417, -4.27850466, ..., -5.71309046,\n",
       "         -4.14128807, -4.01999775],\n",
       "        [-1.23299175, -0.21951632, -1.0602305 , ..., -0.43965475,\n",
       "         -1.11435865, -1.26952241],\n",
       "        [-8.17155064, -8.62953954, -8.89130502, ..., -7.84858662,\n",
       "         -8.13076779, -7.08069412]])}"
      ]
     },
     "execution_count": 6,
     "metadata": {},
     "output_type": "execute_result"
    }
   ],
   "source": [
    "ac.compute(X,Y)"
   ]
  },
  {
   "cell_type": "code",
   "execution_count": null,
   "metadata": {},
   "outputs": [],
   "source": []
  }
 ],
 "metadata": {
  "kernelspec": {
   "display_name": "Python 3",
   "language": "python",
   "name": "python3"
  },
  "language_info": {
   "codemirror_mode": {
    "name": "ipython",
    "version": 3
   },
   "file_extension": ".py",
   "mimetype": "text/x-python",
   "name": "python",
   "nbconvert_exporter": "python",
   "pygments_lexer": "ipython3",
   "version": "3.10.6"
  },
  "orig_nbformat": 4
 },
 "nbformat": 4,
 "nbformat_minor": 2
}
