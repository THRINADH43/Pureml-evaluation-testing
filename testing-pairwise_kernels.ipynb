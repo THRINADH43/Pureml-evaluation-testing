{
 "cells": [
  {
   "cell_type": "code",
   "execution_count": 1,
   "metadata": {},
   "outputs": [],
   "source": [
    "from pureml_evaluate.metrics.model.pairwise_kernels.pairwise_kernels import PairwiseKernels"
   ]
  },
  {
   "cell_type": "code",
   "execution_count": 2,
   "metadata": {},
   "outputs": [],
   "source": [
    "pk = PairwiseKernels()"
   ]
  },
  {
   "cell_type": "code",
   "execution_count": 3,
   "metadata": {},
   "outputs": [],
   "source": [
    "from sklearn.datasets import load_iris\n",
    "\n",
    "# Load the Iris dataset\n",
    "iris = load_iris()\n",
    "X = iris.data\n"
   ]
  },
  {
   "cell_type": "code",
   "execution_count": 5,
   "metadata": {},
   "outputs": [
    {
     "data": {
      "text/plain": [
       "{'pairwise_kernels': array([[40.26, 37.49, 37.03, ..., 51.33, 51.54, 48.09],\n",
       "        [37.49, 35.01, 34.49, ..., 48.53, 48.6 , 45.41],\n",
       "        [37.03, 34.49, 34.06, ..., 47.31, 47.5 , 44.32],\n",
       "        ...,\n",
       "        [51.33, 48.53, 47.31, ..., 82.29, 83.18, 77.47],\n",
       "        [51.54, 48.6 , 47.5 , ..., 83.18, 84.45, 78.46],\n",
       "        [48.09, 45.41, 44.32, ..., 77.47, 78.46, 73.06]])}"
      ]
     },
     "execution_count": 5,
     "metadata": {},
     "output_type": "execute_result"
    }
   ],
   "source": [
    "pk.compute(X,metric='linear')"
   ]
  },
  {
   "cell_type": "code",
   "execution_count": 6,
   "metadata": {},
   "outputs": [
    {
     "data": {
      "text/plain": [
       "{'pairwise_kernels': array([[40.26, 37.49, 37.03, ..., 51.33, 51.54, 48.09],\n",
       "        [37.49, 35.01, 34.49, ..., 48.53, 48.6 , 45.41],\n",
       "        [37.03, 34.49, 34.06, ..., 47.31, 47.5 , 44.32],\n",
       "        ...,\n",
       "        [51.33, 48.53, 47.31, ..., 82.29, 83.18, 77.47],\n",
       "        [51.54, 48.6 , 47.5 , ..., 83.18, 84.45, 78.46],\n",
       "        [48.09, 45.41, 44.32, ..., 77.47, 78.46, 73.06]])}"
      ]
     },
     "execution_count": 6,
     "metadata": {},
     "output_type": "execute_result"
    }
   ],
   "source": [
    "pk.compute(X)"
   ]
  },
  {
   "cell_type": "code",
   "execution_count": 7,
   "metadata": {},
   "outputs": [],
   "source": [
    "import numpy as np\n"
   ]
  },
  {
   "cell_type": "code",
   "execution_count": 8,
   "metadata": {},
   "outputs": [],
   "source": [
    "precomputed_matrix = np.random.rand(5, 5)\n"
   ]
  },
  {
   "cell_type": "code",
   "execution_count": 9,
   "metadata": {},
   "outputs": [
    {
     "data": {
      "text/plain": [
       "{'pairwise_kernels': array([[0.49241399, 0.52088241, 0.00382792, 0.26544258, 0.25412999],\n",
       "        [0.92491902, 0.84445119, 0.81815949, 0.50390288, 0.89567253],\n",
       "        [0.32681207, 0.80458735, 0.69246422, 0.43769409, 0.91837351],\n",
       "        [0.59870998, 0.21042054, 0.86325427, 0.04323217, 0.22555663],\n",
       "        [0.31997011, 0.58087906, 0.1003457 , 0.3109031 , 0.30830394]])}"
      ]
     },
     "execution_count": 9,
     "metadata": {},
     "output_type": "execute_result"
    }
   ],
   "source": [
    "pk.compute(precomputed_matrix,metric='precomputed')"
   ]
  },
  {
   "cell_type": "code",
   "execution_count": 10,
   "metadata": {},
   "outputs": [],
   "source": [
    "Y = np.random.rand(5, 3)\n"
   ]
  },
  {
   "cell_type": "code",
   "execution_count": 12,
   "metadata": {},
   "outputs": [
    {
     "data": {
      "text/plain": [
       "{'pairwise_kernels': array([[0.49241399, 0.52088241, 0.00382792, 0.26544258, 0.25412999],\n",
       "        [0.92491902, 0.84445119, 0.81815949, 0.50390288, 0.89567253],\n",
       "        [0.32681207, 0.80458735, 0.69246422, 0.43769409, 0.91837351],\n",
       "        [0.59870998, 0.21042054, 0.86325427, 0.04323217, 0.22555663],\n",
       "        [0.31997011, 0.58087906, 0.1003457 , 0.3109031 , 0.30830394]])}"
      ]
     },
     "execution_count": 12,
     "metadata": {},
     "output_type": "execute_result"
    }
   ],
   "source": [
    "pk.compute(precomputed_matrix,Y,metric='precomputed')"
   ]
  },
  {
   "cell_type": "code",
   "execution_count": null,
   "metadata": {},
   "outputs": [],
   "source": []
  }
 ],
 "metadata": {
  "kernelspec": {
   "display_name": "Python 3",
   "language": "python",
   "name": "python3"
  },
  "language_info": {
   "codemirror_mode": {
    "name": "ipython",
    "version": 3
   },
   "file_extension": ".py",
   "mimetype": "text/x-python",
   "name": "python",
   "nbconvert_exporter": "python",
   "pygments_lexer": "ipython3",
   "version": "3.10.6"
  },
  "orig_nbformat": 4
 },
 "nbformat": 4,
 "nbformat_minor": 2
}
