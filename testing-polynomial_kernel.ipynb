{
 "cells": [
  {
   "cell_type": "code",
   "execution_count": 1,
   "metadata": {},
   "outputs": [],
   "source": [
    "from pureml_evaluate.metrics.model.polynomial_kernel.polynomial_kernel import PolynomialKernel"
   ]
  },
  {
   "cell_type": "code",
   "execution_count": 2,
   "metadata": {},
   "outputs": [],
   "source": [
    "pk = PolynomialKernel()"
   ]
  },
  {
   "cell_type": "code",
   "execution_count": 6,
   "metadata": {},
   "outputs": [],
   "source": [
    "import numpy as np\n",
    "\n",
    "# Create two random datasets\n",
    "X = np.random.rand(5, 3)\n",
    "Y = np.random.rand(5,3)"
   ]
  },
  {
   "cell_type": "code",
   "execution_count": 7,
   "metadata": {},
   "outputs": [
    {
     "data": {
      "text/plain": [
       "{'polynomial_kernel': array([[2.20055382, 1.38892411, 2.31818526, 1.61534948, 1.97063694],\n",
       "        [1.26446816, 1.05534482, 1.31807588, 1.15189685, 1.3352248 ],\n",
       "        [1.93845579, 1.35736482, 2.30560204, 1.45698397, 1.43444882],\n",
       "        [2.62557125, 1.51219848, 2.91978835, 1.79829624, 2.189428  ],\n",
       "        [1.71911197, 1.27135387, 1.95025686, 1.36242052, 1.39286544]])}"
      ]
     },
     "execution_count": 7,
     "metadata": {},
     "output_type": "execute_result"
    }
   ],
   "source": [
    "pk.compute(X,Y)"
   ]
  },
  {
   "cell_type": "code",
   "execution_count": 8,
   "metadata": {},
   "outputs": [
    {
     "data": {
      "text/plain": [
       "{'polynomial_kernel': array([[1.69182198, 1.2448557 , 1.75158853, 1.37671591, 1.5718258 ],\n",
       "        [1.16933406, 1.03656432, 1.20215447, 1.09886007, 1.21255913],\n",
       "        [1.5546666 , 1.22592639, 1.74524432, 1.28519743, 1.27191094],\n",
       "        [1.90319172, 1.31746534, 2.04283951, 1.47879336, 1.68611469],\n",
       "        [1.43505796, 1.17357531, 1.56096995, 1.22896859, 1.24720959]])}"
      ]
     },
     "execution_count": 8,
     "metadata": {},
     "output_type": "execute_result"
    }
   ],
   "source": [
    "pk.compute(X,Y,degree=2)"
   ]
  },
  {
   "cell_type": "code",
   "execution_count": null,
   "metadata": {},
   "outputs": [],
   "source": []
  }
 ],
 "metadata": {
  "kernelspec": {
   "display_name": "Python 3",
   "language": "python",
   "name": "python3"
  },
  "language_info": {
   "codemirror_mode": {
    "name": "ipython",
    "version": 3
   },
   "file_extension": ".py",
   "mimetype": "text/x-python",
   "name": "python",
   "nbconvert_exporter": "python",
   "pygments_lexer": "ipython3",
   "version": "3.10.6"
  },
  "orig_nbformat": 4
 },
 "nbformat": 4,
 "nbformat_minor": 2
}
